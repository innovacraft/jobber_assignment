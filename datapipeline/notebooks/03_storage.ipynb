{
 "cells": [
  {
   "cell_type": "code",
   "execution_count": 0,
   "metadata": {
    "application/vnd.databricks.v1+cell": {
     "cellMetadata": {},
     "inputWidgets": {},
     "nuid": "3c1daaee-9a59-4a13-94d8-52f08b2182a1",
     "showTitle": false,
     "tableResultSettingsMap": {},
     "title": ""
    }
   },
   "outputs": [],
   "source": [
    "%run \"/Workspace/Users/ankur.chopra@3pillarglobal.com/00_setup_configuration\""
   ]
  },
  {
   "cell_type": "code",
   "execution_count": 0,
   "metadata": {
    "application/vnd.databricks.v1+cell": {
     "cellMetadata": {},
     "inputWidgets": {},
     "nuid": "d0305724-c6c5-4612-9adc-3914564cc875",
     "showTitle": false,
     "tableResultSettingsMap": {},
     "title": ""
    }
   },
   "outputs": [],
   "source": [
    "# Read processed data from Delta Lake\n",
    "delta_df = spark.read.format(\"delta\").load(\"s3://jobbertech/assignment/processed_data/customer_sales\")\n",
    "\n",
    "# Optimize to compact files and improve query performance\n",
    "spark.sql(\"OPTIMIZE `s3://jobbertech/assignment/processed_data/customer_sales` ZORDER BY (customer_id)\")\n",
    "\n",
    "# Clean up old files beyond a retention period of 7 days\n",
    "spark.sql(\"VACUUM `s3://jobbertech/assignment/processed_data/customer_sales` RETENTION 7 DAYS\")\n",
    "\n",
    "# Additional OPTIMIZE with ZORDER to improve performance on frequently queried columns\n",
    "spark.sql(\"\"\"\n",
    "    OPTIMIZE `s3://jobbertech/assignment/processed_data/customer_sales`\n",
    "    ZORDER BY (price_range)\n",
    "\"\"\")"
   ]
  }
 ],
 "metadata": {
  "application/vnd.databricks.v1+notebook": {
   "computePreferences": null,
   "dashboards": [],
   "environmentMetadata": {
    "base_environment": "",
    "environment_version": "2"
   },
   "language": "python",
   "notebookMetadata": {
    "pythonIndentUnit": 4
   },
   "notebookName": "03_storage",
   "widgets": {}
  },
  "language_info": {
   "name": "python"
  }
 },
 "nbformat": 4,
 "nbformat_minor": 0
}