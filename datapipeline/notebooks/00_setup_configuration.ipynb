{
 "cells": [
  {
   "cell_type": "code",
   "execution_count": 0,
   "metadata": {
    "application/vnd.databricks.v1+cell": {
     "cellMetadata": {
      "byteLimit": 2048000,
      "rowLimit": 10000
     },
     "inputWidgets": {},
     "nuid": "fa4b2a80-fe20-4924-b7ca-a03fe4dece17",
     "showTitle": false,
     "tableResultSettingsMap": {},
     "title": ""
    }
   },
   "outputs": [],
   "source": [
    "from pyspark.sql import SparkSession\n",
    "\n",
    "# Build the Spark Session using AWS Keys\n",
    "spark = SparkSession.builder.appName(\"Setup Configuration\") \\\n",
    "    .config(\"spark.hadoop.fs.s3a.access.key\", dbutils.secrets.get(scope=\"aws-keys\", key=\"aws-access-key\")) \\\n",
    "    .config(\"spark.hadoop.fs.s3a.secret.key\", dbutils.secrets.get(scope=\"aws-keys\", key=\"aws-secret-key\")) \\\n",
    "    .getOrCreate()\n",
    "\n",
    "\n",
    "\n"
   ]
  }
 ],
 "metadata": {
  "application/vnd.databricks.v1+notebook": {
   "computePreferences": null,
   "dashboards": [],
   "environmentMetadata": {
    "base_environment": "",
    "environment_version": "2"
   },
   "language": "python",
   "notebookMetadata": {
    "pythonIndentUnit": 4
   },
   "notebookName": "00_setup_configuration",
   "widgets": {}
  },
  "language_info": {
   "name": "python"
  }
 },
 "nbformat": 4,
 "nbformat_minor": 0
}