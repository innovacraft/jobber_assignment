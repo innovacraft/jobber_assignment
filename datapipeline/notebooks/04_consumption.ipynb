{
 "cells": [
  {
   "cell_type": "code",
   "execution_count": 0,
   "metadata": {
    "application/vnd.databricks.v1+cell": {
     "cellMetadata": {},
     "inputWidgets": {},
     "nuid": "4af7dc1b-8241-4815-9cc9-11baf02ac781",
     "showTitle": false,
     "tableResultSettingsMap": {},
     "title": ""
    }
   },
   "outputs": [],
   "source": [
    "%run \"/Workspace/Users/ankur.chopra@3pillarglobal.com/00_setup_configuration\""
   ]
  },
  {
   "cell_type": "code",
   "execution_count": 0,
   "metadata": {
    "application/vnd.databricks.v1+cell": {
     "cellMetadata": {},
     "inputWidgets": {},
     "nuid": "52704c92-273c-4e8d-9f18-31621555ad1d",
     "showTitle": false,
     "tableResultSettingsMap": {},
     "title": ""
    }
   },
   "outputs": [],
   "source": [
    "# Setup Redshift connection using IAM roles\n",
    "redshift_url = \"jdbc:redshift://myworkgroup.767397719529.us-west-2.redshift-serverless.amazonaws.com:5439/dev?Iam=1\"\n",
    "properties = {\n",
    "    \"driver\": \"com.amazon.redshift.jdbc.Driver\"\n",
    "}\n",
    "\n",
    "# Load data from delta lake\n",
    "delta_df = spark.read.format(\"delta\").load(\"s3://jobbertech/assignment/processed_data/customer_sales\")\n",
    "\n",
    "# Write to Redshift for consumption\n",
    "delta_df.write.jdbc(url=redshift_url, table=\"customer_sales\", mode=\"append\", properties=properties)\n"
   ]
  }
 ],
 "metadata": {
  "application/vnd.databricks.v1+notebook": {
   "computePreferences": null,
   "dashboards": [],
   "environmentMetadata": {
    "base_environment": "",
    "environment_version": "2"
   },
   "language": "python",
   "notebookMetadata": {
    "pythonIndentUnit": 4
   },
   "notebookName": "04_consumption",
   "widgets": {}
  },
  "language_info": {
   "name": "python"
  }
 },
 "nbformat": 4,
 "nbformat_minor": 0
}